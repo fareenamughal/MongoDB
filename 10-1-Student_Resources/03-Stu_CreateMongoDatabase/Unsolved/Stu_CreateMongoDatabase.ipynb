{
 "cells": [
  {
   "cell_type": "markdown",
   "id": "91e484ca-75ad-4fc5-a2df-5b6f8952fc3d",
   "metadata": {},
   "source": [
    "# Create a Mongo Database"
   ]
  },
  {
   "cell_type": "markdown",
   "id": "bf35709b-36ce-420f-bbf6-978e2413b81d",
   "metadata": {},
   "source": [
    "In this activity, you'll start by importing the contents of a JSON file into a Mongo database collection by using the Mongo CLI.\n",
    "\n",
    "1. Start Mongo by running `mongod` for Windows, or `brew services start mongodb/brew/mongodb-community` for Mac.\n",
    "2. In the terminal, use `cd` to navigate to the resources folder that contains the file named customer_list.json.\n",
    "3. Use the following command to import this file to a Mongo database:\n",
    "\n",
    "```\n",
    "mongoimport --type json -d petsitly_marketing -c customer_list --drop --jsonArray customer_list.json\n",
    "```\n",
    "\n",
    "This command tells Mongo that it needs to:\n",
    "\n",
    "* import a json file (`--type json`)\n",
    "* to a database called \"petsitly_marketing\" (`-d petsitly_marketing`) \n",
    "* in a collection called \"customer_list\" (`-c customer_list`)\n",
    "* treat the input source as a json array (`--array`)\n",
    "* removing the existing \"customer_list\" collection (`--drop`), if it exists, before adding the new documents from the json file.\n",
    "\n",
    "Now that we have imported our data, let's use pymongo to explore it."
   ]
  },
  {
   "cell_type": "code",
   "execution_count": 1,
   "id": "f2f2d6cb-8679-4232-836d-d33c587fa44a",
   "metadata": {},
   "outputs": [],
   "source": [
    "from pymongo import MongoClient"
   ]
  },
  {
   "cell_type": "markdown",
   "id": "9d563ec3-7151-465e-b694-7dbb9b89958f",
   "metadata": {},
   "source": [
    "4. Create an instance of MongoClient, using the port number 27017."
   ]
  },
  {
   "cell_type": "code",
   "execution_count": 2,
   "id": "686fb4fc-7b44-4801-9fbd-120a12a909f6",
   "metadata": {},
   "outputs": [],
   "source": [
    "# Create an instance of MongoClient\n",
    "mongo = MongoClient(port=27017)"
   ]
  },
  {
   "cell_type": "markdown",
   "id": "91ffdc44-f7bf-4f22-ad09-e75e3eb3aa32",
   "metadata": {},
   "source": [
    "5. List the names of the database in order to confirm that the petsitly_marketing database was created. "
   ]
  },
  {
   "cell_type": "code",
   "execution_count": 6,
   "id": "b25dd0e2-9c00-4983-9421-c1ba20d54a9d",
   "metadata": {},
   "outputs": [
    {
     "name": "stdout",
     "output_type": "stream",
     "text": [
      "['admin', 'config', 'local', 'my_db']\n"
     ]
    }
   ],
   "source": [
    "print(mongo.list_database_names())"
   ]
  },
  {
   "cell_type": "markdown",
   "id": "4fc9494a-8ae5-422f-938c-09837ac79fef",
   "metadata": {},
   "source": [
    "6. Assign the petsitly_marketing database to a variable name"
   ]
  },
  {
   "cell_type": "code",
   "execution_count": 7,
   "id": "c952301c-b6c7-4f13-8950-9857f7f196e2",
   "metadata": {},
   "outputs": [],
   "source": [
    "# assign the petsitly_marketing database to a variable name\n",
    "db = mongo ['petsitly_marketing']"
   ]
  },
  {
   "cell_type": "markdown",
   "id": "22903575-a862-44dc-90b1-8a1454039307",
   "metadata": {},
   "source": [
    "7. List the names of the collections in the database. \n",
    "\n",
    "> Hint: Be sure to use the variable name you assigned to your database to do this."
   ]
  },
  {
   "cell_type": "code",
   "execution_count": 2,
   "id": "8169fbe9-3446-4830-846a-4c1aca23b61a",
   "metadata": {},
   "outputs": [
    {
     "ename": "NameError",
     "evalue": "name 'mongo' is not defined",
     "output_type": "error",
     "traceback": [
      "\u001b[0;31m---------------------------------------------------------------------------\u001b[0m",
      "\u001b[0;31mNameError\u001b[0m                                 Traceback (most recent call last)",
      "\u001b[0;32m/var/folders/9j/qz8w0j054q13y59z091md64h0000gn/T/ipykernel_11604/2610732471.py\u001b[0m in \u001b[0;36m<module>\u001b[0;34m\u001b[0m\n\u001b[1;32m      1\u001b[0m \u001b[0;31m# review the collections in our new database\u001b[0m\u001b[0;34m\u001b[0m\u001b[0;34m\u001b[0m\u001b[0m\n\u001b[0;32m----> 2\u001b[0;31m \u001b[0mprint\u001b[0m\u001b[0;34m(\u001b[0m\u001b[0mmongo\u001b[0m\u001b[0;34m.\u001b[0m\u001b[0mlist_database_names\u001b[0m\u001b[0;34m(\u001b[0m\u001b[0mpetsitly_marketing\u001b[0m\u001b[0;34m)\u001b[0m\u001b[0;34m)\u001b[0m\u001b[0;34m\u001b[0m\u001b[0;34m\u001b[0m\u001b[0m\n\u001b[0m",
      "\u001b[0;31mNameError\u001b[0m: name 'mongo' is not defined"
     ]
    }
   ],
   "source": [
    "# review the collections in our new database\n"
   ]
  },
  {
   "cell_type": "markdown",
   "id": "2e73113f-3d7d-4a71-ad8d-4bcf1eb0fe90",
   "metadata": {},
   "source": [
    "8. Use the `find_one` function to look at a document within the `customer_list` collection of your database."
   ]
  },
  {
   "cell_type": "code",
   "execution_count": null,
   "id": "eb0ed1c1-653e-482f-b68e-95ee3bb27fc1",
   "metadata": {},
   "outputs": [],
   "source": [
    "# review a document in the customer_list collection\n",
    "print(# YOUR CODE HERE)"
   ]
  },
  {
   "cell_type": "markdown",
   "id": "f0e0d5ad-faf5-4886-9846-ab83385e9155",
   "metadata": {},
   "source": [
    "9. Assign the `customer_list` collection to a variable of your choice."
   ]
  },
  {
   "cell_type": "code",
   "execution_count": null,
   "id": "91e2bbd9-5d10-46e9-beed-8f189aee4383",
   "metadata": {},
   "outputs": [],
   "source": [
    "# assign the collection to a variable\n",
    "customer_list = # YOUR CODE HERE"
   ]
  },
  {
   "cell_type": "markdown",
   "id": "a3c02e58-d9b8-4596-9c9b-0538cdc55706",
   "metadata": {},
   "source": [
    "10. Use the `insert_one` function to insert the new customer into the database, then run the query in the following cell to look at this customer."
   ]
  },
  {
   "cell_type": "code",
   "execution_count": null,
   "id": "ec5cac1f-f9f0-46e1-87f8-1c453c6019f9",
   "metadata": {},
   "outputs": [],
   "source": [
    "# insert a new customer\n",
    "new_customer = {'_id':3, 'Customer_First': 'Data', 'Customer_Last': 'Viz', \n",
    "                'Address': '55882 Valley Fields Dr', 'Email': 'dataviz@bootcamp.edu', \n",
    "                '2021_Visits': 75, '2021_Total_Spend': 2017.75, 'Pet_Type': 'cat'}\n",
    "# YOUR CODE HERE"
   ]
  },
  {
   "cell_type": "code",
   "execution_count": null,
   "id": "d0e96877-3221-4c61-ba39-cf29b41000a2",
   "metadata": {},
   "outputs": [],
   "source": [
    "# RUN THIS CELL\n",
    "# Filter results by name\n",
    "query = {'Customer_First': 'Data'}\n",
    "results = customer_list.find(query)\n",
    "for result in results:\n",
    "    print(result)"
   ]
  },
  {
   "cell_type": "markdown",
   "id": "cb1646b9-c826-40de-98f5-82b26cf06966",
   "metadata": {},
   "source": [
    "11. Create a query that will find all of the customers who have turtles as pets. \n",
    "\n",
    "> Bonus: Try running queries to see what other types of animals customers have."
   ]
  },
  {
   "cell_type": "code",
   "execution_count": null,
   "id": "95691ec8-2fe9-49c8-9a4b-e9efef179628",
   "metadata": {},
   "outputs": [],
   "source": [
    "# Find the number of customers with turtles\n",
    "query = # YOUR CODE HERE\n",
    "results = # YOUR CODE HERE\n",
    "for result in results:\n",
    "    print(result)"
   ]
  },
  {
   "cell_type": "markdown",
   "id": "ec1625bf-32cd-4c48-abfa-9116305a0bbd",
   "metadata": {},
   "source": [
    "12. Use the `delete_many` function to delete the customers that have turtles. Then query the database to confirm that this worked."
   ]
  },
  {
   "cell_type": "code",
   "execution_count": null,
   "id": "4bcfa105-8b0c-4848-bae2-d4fa7d6cfe8a",
   "metadata": {},
   "outputs": [],
   "source": [
    "# Delete all the customers who have hamsters\n",
    "# YOUR CODE HERE\n",
    "results = # YOUR CODE HERE\n",
    "for result in results:\n",
    "    print(result)"
   ]
  },
  {
   "cell_type": "markdown",
   "id": "c88db593-006e-4028-a463-e7c03900a9c5",
   "metadata": {},
   "source": [
    "13. Use `drop_collection` to delete the collection, then use `list_collection_names` to confirm that this worked."
   ]
  },
  {
   "cell_type": "code",
   "execution_count": null,
   "id": "1efd373c-6ef8-48da-85d9-5878ed12cb76",
   "metadata": {},
   "outputs": [],
   "source": [
    "# Delete a collection\n",
    "# YOUR CODE HERE\n",
    "# YOUR CODE HERE"
   ]
  },
  {
   "cell_type": "markdown",
   "id": "4236014d-6f9c-4bbf-a3cc-1925f73640cb",
   "metadata": {},
   "source": [
    "14. Use `drop_database` to delete your database. Then use `list_database_names to confirm that this worked`."
   ]
  },
  {
   "cell_type": "code",
   "execution_count": null,
   "id": "dddd5935-00f6-48e6-91ed-8ef2e7e9a278",
   "metadata": {},
   "outputs": [],
   "source": [
    "# Delete the database\n",
    "# YOUR CODE HERE\n",
    "# YOUR CODE HERE"
   ]
  }
 ],
 "metadata": {
  "kernelspec": {
   "display_name": "Python 3 (ipykernel)",
   "language": "python",
   "name": "python3"
  },
  "language_info": {
   "codemirror_mode": {
    "name": "ipython",
    "version": 3
   },
   "file_extension": ".py",
   "mimetype": "text/x-python",
   "name": "python",
   "nbconvert_exporter": "python",
   "pygments_lexer": "ipython3",
   "version": "3.9.13"
  }
 },
 "nbformat": 4,
 "nbformat_minor": 5
}
