{
 "cells": [
  {
   "cell_type": "markdown",
   "id": "91e484ca-75ad-4fc5-a2df-5b6f8952fc3d",
   "metadata": {},
   "source": [
    "# Introduction to Mongo"
   ]
  },
  {
   "cell_type": "markdown",
   "id": "bf35709b-36ce-420f-bbf6-978e2413b81d",
   "metadata": {},
   "source": [
    "In this activity, you'll start by importing the contents of a JSON file into a Mongo database collection by using the Mongo CLI.\n",
    "\n",
    "1. Start Mongo by running `mongod` for Windows, or `brew services start mongodb/brew/mongodb-community` for Mac.\n",
    "2. Navigate to the directory that includes your csv.\n",
    "3. Use the following command to import this csv to a Mongo database:\n",
    "```\n",
    "mongoimport --type csv -d petsitly_marketing -c customer_list --headerline --drop customer_list.csv\n",
    "```\n",
    "\n",
    "This command tells Mongo that it needs to:\n",
    "\n",
    "* import a csv file (`--type csv`)\n",
    "* to a database called \"petsitly_marketing\" (`-d petsitly_marketing`) \n",
    "* in a collection called \"customer_list\" (`-c customer_list`)\n",
    "* using the first row of the csv as field names (`--headerline`)\n",
    "* removing the existing \"customer_list\" collection (`--drop`), if it exists, before adding the new documents from the json file.\n",
    "\n",
    "Now that we have imported our data, let's use pymongo to explore it."
   ]
  },
  {
   "cell_type": "code",
   "execution_count": null,
   "id": "f2f2d6cb-8679-4232-836d-d33c587fa44a",
   "metadata": {},
   "outputs": [],
   "source": [
    "from pymongo import MongoClient"
   ]
  },
  {
   "cell_type": "code",
   "execution_count": null,
   "id": "686fb4fc-7b44-4801-9fbd-120a12a909f6",
   "metadata": {},
   "outputs": [],
   "source": [
    "# Create an instance of MongoClient\n"
   ]
  },
  {
   "cell_type": "code",
   "execution_count": null,
   "id": "b25dd0e2-9c00-4983-9421-c1ba20d54a9d",
   "metadata": {},
   "outputs": [],
   "source": [
    "# confirm that our new database was created\n"
   ]
  },
  {
   "cell_type": "code",
   "execution_count": null,
   "id": "c952301c-b6c7-4f13-8950-9857f7f196e2",
   "metadata": {},
   "outputs": [],
   "source": [
    "# assign the database to a variable name\n"
   ]
  },
  {
   "cell_type": "code",
   "execution_count": null,
   "id": "8169fbe9-3446-4830-846a-4c1aca23b61a",
   "metadata": {},
   "outputs": [],
   "source": [
    "# review the collections in our new database\n"
   ]
  },
  {
   "cell_type": "code",
   "execution_count": null,
   "id": "eb0ed1c1-653e-482f-b68e-95ee3bb27fc1",
   "metadata": {},
   "outputs": [],
   "source": [
    "# review a document in the customer_list collection\n"
   ]
  },
  {
   "cell_type": "code",
   "execution_count": null,
   "id": "91e2bbd9-5d10-46e9-beed-8f189aee4383",
   "metadata": {},
   "outputs": [],
   "source": [
    "# assign the collection to a variable\n"
   ]
  },
  {
   "cell_type": "code",
   "execution_count": null,
   "id": "ec5cac1f-f9f0-46e1-87f8-1c453c6019f9",
   "metadata": {},
   "outputs": [],
   "source": [
    "# insert a new customer\n"
   ]
  },
  {
   "cell_type": "code",
   "execution_count": null,
   "id": "d0e96877-3221-4c61-ba39-cf29b41000a2",
   "metadata": {},
   "outputs": [],
   "source": [
    "# Filter results by name\n"
   ]
  },
  {
   "cell_type": "code",
   "execution_count": null,
   "id": "95691ec8-2fe9-49c8-9a4b-e9efef179628",
   "metadata": {},
   "outputs": [],
   "source": [
    "# Find the number of customers with hamsters\n"
   ]
  },
  {
   "cell_type": "code",
   "execution_count": null,
   "id": "4bcfa105-8b0c-4848-bae2-d4fa7d6cfe8a",
   "metadata": {},
   "outputs": [],
   "source": [
    "# Delete all the customers who have hamsters\n"
   ]
  },
  {
   "cell_type": "code",
   "execution_count": null,
   "id": "1efd373c-6ef8-48da-85d9-5878ed12cb76",
   "metadata": {},
   "outputs": [],
   "source": [
    "# Delete a collection\n"
   ]
  },
  {
   "cell_type": "code",
   "execution_count": null,
   "id": "dddd5935-00f6-48e6-91ed-8ef2e7e9a278",
   "metadata": {},
   "outputs": [],
   "source": [
    "# Delete the database\n"
   ]
  }
 ],
 "metadata": {
  "kernelspec": {
   "display_name": "Python 3",
   "language": "python",
   "name": "python3"
  },
  "language_info": {
   "codemirror_mode": {
    "name": "ipython",
    "version": 3
   },
   "file_extension": ".py",
   "mimetype": "text/x-python",
   "name": "python",
   "nbconvert_exporter": "python",
   "pygments_lexer": "ipython3",
   "version": "3.7.7"
  }
 },
 "nbformat": 4,
 "nbformat_minor": 5
}
