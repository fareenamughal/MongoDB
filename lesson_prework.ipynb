{
 "cells": [
  {
   "cell_type": "code",
   "execution_count": 1,
   "id": "b911af83",
   "metadata": {},
   "outputs": [],
   "source": [
    "# Make sure that you have started Mongo in your terminal.To do this on a Windows computer, run the command mongod. \n",
    "# On a Mac, run the command brew services start mongodb/brew/mongodb-community.\n",
    "\n"
   ]
  },
  {
   "cell_type": "code",
   "execution_count": 2,
   "id": "3ff4b40c",
   "metadata": {},
   "outputs": [],
   "source": [
    "# Create a MongoClient instance\n",
    "from pymongo import MongoClient\n",
    "mongo = MongoClient(port=27017)\n"
   ]
  },
  {
   "cell_type": "code",
   "execution_count": 3,
   "id": "b540a838",
   "metadata": {},
   "outputs": [
    {
     "name": "stdout",
     "output_type": "stream",
     "text": [
      "['admin', 'config', 'local', 'my_db']\n"
     ]
    }
   ],
   "source": [
    "# identify which databases already exist in Mongo\n",
    "print(mongo.list_database_names())"
   ]
  },
  {
   "cell_type": "code",
   "execution_count": 4,
   "id": "df0d1bfd",
   "metadata": {},
   "outputs": [],
   "source": [
    "# identify which databases already exist in Mongo\n",
    "print(mongo.list_database_names())"
   ]
  },
  {
   "cell_type": "code",
   "execution_count": 5,
   "id": "e478fa5a",
   "metadata": {},
   "outputs": [
    {
     "name": "stdout",
     "output_type": "stream",
     "text": [
      "['admin', 'config', 'local', 'my_db']\n"
     ]
    }
   ],
   "source": [
    "# verify that the newly created database exists in Mongo\n",
    "print(mongo.list_database_names())"
   ]
  },
  {
   "cell_type": "code",
   "execution_count": 6,
   "id": "67a97d19",
   "metadata": {},
   "outputs": [
    {
     "data": {
      "text/plain": [
       "['my_collection']"
      ]
     },
     "execution_count": 6,
     "metadata": {},
     "output_type": "execute_result"
    }
   ],
   "source": [
    "# creates a collection called my_collection and assigns it to the variable my_first_collection. Then it checks for the existence of the collection.\n",
    "#  collection is represented as a key of the database (my_first_db['my_collection']). The collection does not yet exist until the document is inserted, so let’s do that now. The following code inserts a Python dictionary as a document.\n",
    "\n",
    "\n",
    "my_first_collection = my_first_db['my_collection']\n",
    "my_first_db.list_collection_names()"
   ]
  },
  {
   "cell_type": "code",
   "execution_count": 7,
   "id": "2406acbe",
   "metadata": {},
   "outputs": [
    {
     "data": {
      "text/plain": [
       "<pymongo.results.InsertOneResult at 0x7fa9a08d89d0>"
      ]
     },
     "execution_count": 7,
     "metadata": {},
     "output_type": "execute_result"
    }
   ],
   "source": [
    "# insert_one method is called by the collection (not the document), and takes a simple dictionary as its argument.\n",
    "my_first_collection.insert_one({'name': 'Mickey'})"
   ]
  },
  {
   "cell_type": "code",
   "execution_count": 8,
   "id": "2cedb274",
   "metadata": {},
   "outputs": [
    {
     "name": "stdout",
     "output_type": "stream",
     "text": [
      "['admin', 'config', 'local', 'my_db']\n",
      "['my_collection']\n"
     ]
    }
   ],
   "source": [
    "print(mongo.list_database_names())\n",
    "print(my_first_db.list_collection_names())\n"
   ]
  },
  {
   "cell_type": "code",
   "execution_count": 9,
   "id": "834ebc3d",
   "metadata": {},
   "outputs": [
    {
     "data": {
      "text/plain": [
       "<pymongo.results.InsertOneResult at 0x7fa9a08d8ee0>"
      ]
     },
     "execution_count": 9,
     "metadata": {},
     "output_type": "execute_result"
    }
   ],
   "source": [
    "# Add a document to the collection by inserting a dictionary of a character whose name is \"Minnie\" and whose age is 90.\n",
    "my_first_collection.insert_one({\"Name\": \"Minnie\", \"Age\": 90})"
   ]
  },
  {
   "cell_type": "code",
   "execution_count": 10,
   "id": "97a6c82e",
   "metadata": {},
   "outputs": [
    {
     "name": "stdout",
     "output_type": "stream",
     "text": [
      "{'_id': ObjectId('6355bd7afb583be05940d3d1'), 'name': 'Mickey'}\n",
      "{'_id': ObjectId('6355c1f8b09d9c58b7cf6574'), 'name': 'Mickey'}\n",
      "{'_id': ObjectId('6355c2b8a322c21b3e7a145a'), 'name': 'Mickey'}\n",
      "{'_id': ObjectId('6355c547a322c21b3e7a145b'), 'Name': 'Minnie', 'Age': 90}\n",
      "{'_id': ObjectId('6355c5a3e7d7daee43a2b040'), 'name': 'Mickey'}\n",
      "{'_id': ObjectId('6355c5a3e7d7daee43a2b041'), 'Name': 'Minnie', 'Age': 90}\n"
     ]
    }
   ],
   "source": [
    "# In order to view them, use the find method on the collection\n",
    "results = my_first_collection.find()\n",
    "for result in results:\n",
    "    print(result)\n"
   ]
  },
  {
   "cell_type": "code",
   "execution_count": 11,
   "id": "b62ee67f",
   "metadata": {},
   "outputs": [
    {
     "name": "stdout",
     "output_type": "stream",
     "text": [
      "{'_id': ObjectId('6355bd7afb583be05940d3d1'), 'name': 'Mickey'}\n",
      "{'_id': ObjectId('6355c1f8b09d9c58b7cf6574'), 'name': 'Mickey'}\n",
      "{'_id': ObjectId('6355c2b8a322c21b3e7a145a'), 'name': 'Mickey'}\n",
      "{'_id': ObjectId('6355c547a322c21b3e7a145b'), 'Name': 'Minnie', 'Age': 90}\n",
      "{'_id': ObjectId('6355c5a3e7d7daee43a2b040'), 'name': 'Mickey'}\n",
      "{'_id': ObjectId('6355c5a3e7d7daee43a2b041'), 'Name': 'Minnie', 'Age': 90}\n",
      "{'_id': 3, 'name': 'Goofy', 'age': 87, 'species': 'dog'}\n"
     ]
    }
   ],
   "source": [
    "# Mongo is required to have a unique identifier. If an _id is not specified when inserting a document, Mongo creates one. It's also possible, however, to assign a custom _id value.\n",
    "\n",
    "# goofy = {'_id':3, 'name': 'Goofy', 'age': 87, 'species': 'dog'} Insert this dictionary into my_first_collection, and print all documents.\n",
    "goofy = {'_id':3, 'name': 'Goofy', 'age': 87, 'species': 'dog'}\n",
    "my_first_collection.insert_one(goofy)\n",
    "\n",
    "results = my_first_collection.find()\n",
    "for result in results:\n",
    "    print(result)"
   ]
  },
  {
   "cell_type": "code",
   "execution_count": 12,
   "id": "c8487d38",
   "metadata": {},
   "outputs": [
    {
     "data": {
      "text/plain": [
       "<pymongo.results.InsertManyResult at 0x7fa9b23e9eb0>"
      ]
     },
     "execution_count": 12,
     "metadata": {},
     "output_type": "execute_result"
    }
   ],
   "source": [
    "# Goofy also has the species field (note that the words \"field\" and \"key\" are used interchangeably here). This flexibility is one of the advantages of using a database like Mongo.\n",
    "\n",
    "# Up to this point, we've added one document at a time to Mongo. But we can also insert multiple documents with the insert_many method, as the following code shows.\n",
    "animals = [{'name': 'Donald', 'species': 'duck'}, {'name': 'Daisy', 'species': 'duck'}]\n",
    "my_first_collection.insert_many(animals)"
   ]
  },
  {
   "cell_type": "code",
   "execution_count": 13,
   "id": "d441f1d1",
   "metadata": {},
   "outputs": [
    {
     "name": "stdout",
     "output_type": "stream",
     "text": [
      "{'_id': ObjectId('6355bd7afb583be05940d3d1'), 'name': 'Mickey'}\n",
      "{'_id': ObjectId('6355c1f8b09d9c58b7cf6574'), 'name': 'Mickey'}\n",
      "{'_id': ObjectId('6355c2b8a322c21b3e7a145a'), 'name': 'Mickey'}\n",
      "{'_id': ObjectId('6355c547a322c21b3e7a145b'), 'Name': 'Minnie', 'Age': 90}\n",
      "{'_id': ObjectId('6355c5a3e7d7daee43a2b040'), 'name': 'Mickey'}\n",
      "{'_id': ObjectId('6355c5a3e7d7daee43a2b041'), 'Name': 'Minnie', 'Age': 90}\n",
      "{'_id': 3, 'name': 'Goofy', 'age': 87, 'species': 'dog'}\n",
      "{'_id': ObjectId('6355c7c5e7d7daee43a2b042'), 'name': 'Donald', 'species': 'duck'}\n",
      "{'_id': ObjectId('6355c7c5e7d7daee43a2b043'), 'name': 'Daisy', 'species': 'duck'}\n"
     ]
    }
   ],
   "source": [
    "results = my_first_collection.find()\n",
    "for result in results:\n",
    "    print(result)"
   ]
  },
  {
   "cell_type": "code",
   "execution_count": null,
   "id": "76f05fc5",
   "metadata": {},
   "outputs": [],
   "source": [
    "# The find() method can be used to retrieve all results. This method can also be used with parameters to locate documents with specific qualities. For more details, see the Pymongo documentation for find()Links to an external site..\n"
   ]
  },
  {
   "cell_type": "code",
   "execution_count": 14,
   "id": "3c9f2af6",
   "metadata": {},
   "outputs": [
    {
     "name": "stdout",
     "output_type": "stream",
     "text": [
      "{'_id': ObjectId('6355c7c5e7d7daee43a2b042'), 'name': 'Donald', 'species': 'duck'}\n"
     ]
    }
   ],
   "source": [
    "# Read documents\n",
    "# In order to filter the record, we will define our query by using a dictionary, and then use it as an argument in the find method. Here's an example:\n",
    "\n",
    "query = {'name': 'Donald'}\n",
    "results = my_first_collection.find(query)\n",
    "for result in results:\n",
    "    print(result)"
   ]
  },
  {
   "cell_type": "code",
   "execution_count": 15,
   "id": "8cd16a56",
   "metadata": {},
   "outputs": [
    {
     "name": "stdout",
     "output_type": "stream",
     "text": [
      "{'_id': ObjectId('6355c7c5e7d7daee43a2b042'), 'name': 'Donald', 'species': 'duck'}\n",
      "{'_id': ObjectId('6355c7c5e7d7daee43a2b043'), 'name': 'Daisy', 'species': 'duck'}\n"
     ]
    }
   ],
   "source": [
    "# How would you write a query that returns all of the ducks in the collection?\n",
    "# Your query would be this dictionary: query = {'species': 'duck'}. Then you would use the find function with this query as a parameter to return the results: results = my_first_collection.find(query). Printing the results displays Donald and Daisy, the two ducks in our database\n",
    "query = {'species': 'duck'}\n",
    "results = my_first_collection.find(query)\n",
    "for result in results:\n",
    "    print(result)"
   ]
  },
  {
   "cell_type": "code",
   "execution_count": 16,
   "id": "bc24aac9",
   "metadata": {},
   "outputs": [
    {
     "data": {
      "text/plain": [
       "[{'_id': 3, 'name': 'Goofy', 'age': 87, 'species': 'dog'}]"
      ]
     },
     "execution_count": 16,
     "metadata": {},
     "output_type": "execute_result"
    }
   ],
   "source": [
    "# Now let's try filtering for all characters who are older than 85 years. We use the following code:\n",
    "query = {'age': {'$gt':85}}\n",
    "results = my_first_collection.find(query)\n",
    "[result for result in results]"
   ]
  },
  {
   "cell_type": "code",
   "execution_count": null,
   "id": "c5bb0fb4",
   "metadata": {},
   "outputs": [],
   "source": [
    "# This query is a little bit more complicated. Previously, in order to filter for an exact name match, we specified the key-value pair: {'name': 'Donald'}. Using a comparison operator, such as greater than, requires an additional nested dictionary. Let's break down this code.\n",
    "\n",
    "# The key, age, is followed by a nested dictionary, {'$gt':85}.\n",
    "\n",
    "# In this nested dictionary, the key ('$gt') has two components. The dollar sign is used by Mongo to signal an operator. The gtstands for \"greater than.\" Therefore, {'$gt':85} means \"greater than 85\" and {'age': {'$gt':85}} means \"age greater than 85.\"\n",
    "\n",
    "# To retrieve the results, a list comprehension list is used instead of a for loop. This is only for the sake of conciseness. Feel free to use either a for loop or list comprehension when running queries."
   ]
  },
  {
   "cell_type": "code",
   "execution_count": null,
   "id": "640c4e33",
   "metadata": {},
   "outputs": [],
   "source": []
  }
 ],
 "metadata": {
  "kernelspec": {
   "display_name": "Python 3 (ipykernel)",
   "language": "python",
   "name": "python3"
  },
  "language_info": {
   "codemirror_mode": {
    "name": "ipython",
    "version": 3
   },
   "file_extension": ".py",
   "mimetype": "text/x-python",
   "name": "python",
   "nbconvert_exporter": "python",
   "pygments_lexer": "ipython3",
   "version": "3.9.13"
  }
 },
 "nbformat": 4,
 "nbformat_minor": 5
}
